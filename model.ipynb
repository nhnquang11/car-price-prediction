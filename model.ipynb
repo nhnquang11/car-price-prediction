{
 "cells": [
  {
   "cell_type": "markdown",
   "metadata": {},
   "source": [
    "I. IMPORT LIBRARIES"
   ]
  },
  {
   "cell_type": "code",
   "execution_count": 152,
   "metadata": {},
   "outputs": [],
   "source": [
    "import numpy as np\n",
    "import pandas as pd\n",
    "import xgboost as xgb\n",
    "import torch\n",
    "import torch.nn as nn\n",
    "import torch.optim as optim\n",
    "from torch.autograd import Variable\n",
    "from sklearn.model_selection import train_test_split\n",
    "from sklearn.linear_model import LinearRegression\n",
    "from sklearn.model_selection import GridSearchCV\n",
    "from sklearn.model_selection import RandomizedSearchCV\n",
    "from sklearn.tree import DecisionTreeRegressor\n",
    "from sklearn.ensemble import RandomForestRegressor\n",
    "from sklearn.ensemble import GradientBoostingRegressor\n",
    "from sklearn.preprocessing import StandardScaler\n",
    "from sklearn.metrics import mean_absolute_error, mean_squared_error\n",
    "from sklearn.metrics import r2_score"
   ]
  },
  {
   "cell_type": "markdown",
   "metadata": {},
   "source": [
    "II. PREPARE DATA"
   ]
  },
  {
   "cell_type": "markdown",
   "metadata": {},
   "source": [
    "1. Read data"
   ]
  },
  {
   "cell_type": "code",
   "execution_count": 153,
   "metadata": {},
   "outputs": [
    {
     "name": "stdout",
     "output_type": "stream",
     "text": [
      "(35788, 15)\n"
     ]
    }
   ],
   "source": [
    "df =pd.read_csv('data.csv')\n",
    "print(df.shape)"
   ]
  },
  {
   "cell_type": "code",
   "execution_count": 154,
   "metadata": {},
   "outputs": [
    {
     "name": "stdout",
     "output_type": "stream",
     "text": [
      "Thương hiệu           object\n",
      "Model                 object\n",
      "Tình trạng            object\n",
      "Số Km đã đi            int64\n",
      "Xuất xứ               object\n",
      "Kiểu dáng             object\n",
      "Hộp số                object\n",
      "Số chỗ ngồi            int64\n",
      "Số cửa                 int64\n",
      "Dẫn động              object\n",
      "Giá thành              int64\n",
      "Loại nhiên liệu       object\n",
      "Dung tích động cơ    float64\n",
      "Đơn vị động cơ        object\n",
      "Tuổi                   int64\n",
      "dtype: object\n"
     ]
    }
   ],
   "source": [
    "print(df.dtypes)"
   ]
  },
  {
   "cell_type": "markdown",
   "metadata": {},
   "source": [
    "- We found that the \"Động cơ\" attribute could be separated into more useful attributes, so we'll split them into 3 attributes."
   ]
  },
  {
   "cell_type": "code",
   "execution_count": 155,
   "metadata": {},
   "outputs": [],
   "source": [
    "# df[['Loại nhiên liệu', 'Dung tích động cơ', 'Đơn vị động cơ']] = df['Động cơ'].str.extract(r'(\\D+) (\\d+\\.\\d+) (\\w+)')\n",
    "# df=df.drop(['Động cơ'],axis =1)"
   ]
  },
  {
   "cell_type": "code",
   "execution_count": 156,
   "metadata": {},
   "outputs": [
    {
     "name": "stdout",
     "output_type": "stream",
     "text": [
      "Thương hiệu          0\n",
      "Model                0\n",
      "Tình trạng           0\n",
      "Số Km đã đi          0\n",
      "Xuất xứ              0\n",
      "Kiểu dáng            0\n",
      "Hộp số               0\n",
      "Số chỗ ngồi          0\n",
      "Số cửa               0\n",
      "Dẫn động             0\n",
      "Giá thành            0\n",
      "Loại nhiên liệu      0\n",
      "Dung tích động cơ    0\n",
      "Đơn vị động cơ       0\n",
      "Tuổi                 0\n",
      "dtype: int64\n"
     ]
    }
   ],
   "source": [
    "\n",
    "missing_values = df.isnull().sum()\n",
    "print(missing_values)"
   ]
  },
  {
   "cell_type": "markdown",
   "metadata": {},
   "source": [
    "- However, the result is creating some columns with null values, but that is not much compared to the original data so we will delete it so the model works better."
   ]
  },
  {
   "cell_type": "code",
   "execution_count": 157,
   "metadata": {},
   "outputs": [],
   "source": [
    "\n",
    "# df = df.dropna(subset=['Loại nhiên liệu'])\n",
    "# df['Tuổi'] = 2023 - df['Năm sản xuất']\n",
    "# df = df.drop(['Năm sản xuất'], axis=1)\n"
   ]
  },
  {
   "cell_type": "markdown",
   "metadata": {},
   "source": [
    "2. Delete the target variable and split the variables"
   ]
  },
  {
   "cell_type": "code",
   "execution_count": 158,
   "metadata": {},
   "outputs": [],
   "source": [
    "X = df.drop('Giá thành', axis=1)\n",
    "y = df['Giá thành']\n",
    "X_train, X_test, y_train, y_test = train_test_split(X, y, test_size=0.2, random_state=42)"
   ]
  },
  {
   "cell_type": "code",
   "execution_count": 159,
   "metadata": {},
   "outputs": [
    {
     "name": "stdout",
     "output_type": "stream",
     "text": [
      "<class 'pandas.core.frame.DataFrame'>\n",
      "Index: 28630 entries, 19176 to 15795\n",
      "Data columns (total 14 columns):\n",
      " #   Column             Non-Null Count  Dtype  \n",
      "---  ------             --------------  -----  \n",
      " 0   Thương hiệu        28630 non-null  object \n",
      " 1   Model              28630 non-null  object \n",
      " 2   Tình trạng         28630 non-null  object \n",
      " 3   Số Km đã đi        28630 non-null  int64  \n",
      " 4   Xuất xứ            28630 non-null  object \n",
      " 5   Kiểu dáng          28630 non-null  object \n",
      " 6   Hộp số             28630 non-null  object \n",
      " 7   Số chỗ ngồi        28630 non-null  int64  \n",
      " 8   Số cửa             28630 non-null  int64  \n",
      " 9   Dẫn động           28630 non-null  object \n",
      " 10  Loại nhiên liệu    28630 non-null  object \n",
      " 11  Dung tích động cơ  28630 non-null  float64\n",
      " 12  Đơn vị động cơ     28630 non-null  object \n",
      " 13  Tuổi               28630 non-null  int64  \n",
      "dtypes: float64(1), int64(4), object(9)\n",
      "memory usage: 3.3+ MB\n",
      "None\n"
     ]
    }
   ],
   "source": [
    "print(X_train.info())"
   ]
  },
  {
   "cell_type": "markdown",
   "metadata": {},
   "source": [
    "3. Delete unnecessary columns"
   ]
  },
  {
   "cell_type": "markdown",
   "metadata": {},
   "source": [
    "- We found that the \"Phiên bản\" attribute has a lot of missing data and is not very important, so we will remove it along with the \"Đơn vị động cơ\" attribute because it only has a single value."
   ]
  },
  {
   "cell_type": "code",
   "execution_count": 160,
   "metadata": {},
   "outputs": [],
   "source": [
    "# X_train.drop(\"Phiên bản\", axis = 1, inplace = True)\n",
    "# X_test.drop(\"Phiên bản\", axis = 1, inplace = True)\n",
    "X_train.drop([\"Đơn vị động cơ\", \"Số chỗ ngồi\", \"Số cửa\"], axis = 1, inplace = True)\n",
    "X_test.drop([\"Đơn vị động cơ\", \"Số chỗ ngồi\", \"Số cửa\"], axis = 1, inplace = True)\n",
    "# X_train.drop(\"Model\", axis = 1, inplace = True)\n",
    "# X_test.drop(\"Model\", axis = 1, inplace = True)"
   ]
  },
  {
   "cell_type": "code",
   "execution_count": 161,
   "metadata": {},
   "outputs": [
    {
     "name": "stdout",
     "output_type": "stream",
     "text": [
      "<class 'pandas.core.frame.DataFrame'>\n",
      "Index: 28630 entries, 19176 to 15795\n",
      "Data columns (total 11 columns):\n",
      " #   Column             Non-Null Count  Dtype  \n",
      "---  ------             --------------  -----  \n",
      " 0   Thương hiệu        28630 non-null  object \n",
      " 1   Model              28630 non-null  object \n",
      " 2   Tình trạng         28630 non-null  object \n",
      " 3   Số Km đã đi        28630 non-null  int64  \n",
      " 4   Xuất xứ            28630 non-null  object \n",
      " 5   Kiểu dáng          28630 non-null  object \n",
      " 6   Hộp số             28630 non-null  object \n",
      " 7   Dẫn động           28630 non-null  object \n",
      " 8   Loại nhiên liệu    28630 non-null  object \n",
      " 9   Dung tích động cơ  28630 non-null  float64\n",
      " 10  Tuổi               28630 non-null  int64  \n",
      "dtypes: float64(1), int64(2), object(8)\n",
      "memory usage: 2.6+ MB\n",
      "None\n"
     ]
    }
   ],
   "source": [
    "print(X_train.info())"
   ]
  },
  {
   "cell_type": "markdown",
   "metadata": {},
   "source": [
    "4. Convert non-numeric variables into dummy variables"
   ]
  },
  {
   "cell_type": "code",
   "execution_count": 162,
   "metadata": {},
   "outputs": [],
   "source": [
    "X_train = pd.get_dummies(X_train,\n",
    "                         columns = [\"Model\",\"Dung tích động cơ\",'Loại nhiên liệu',\"Thương hiệu\", \"Tình trạng\",\"Xuất xứ\",\"Kiểu dáng\",\"Hộp số\",\"Dẫn động\"],\n",
    "                         drop_first = True)"
   ]
  },
  {
   "cell_type": "code",
   "execution_count": 163,
   "metadata": {},
   "outputs": [],
   "source": [
    "X_test = pd.get_dummies(X_test,\n",
    "                         columns = [\"Model\",\"Dung tích động cơ\",\"Loại nhiên liệu\",\"Thương hiệu\", \"Tình trạng\",\"Xuất xứ\",\"Kiểu dáng\",\"Hộp số\",\"Dẫn động\"],\n",
    "                         drop_first = True)"
   ]
  },
  {
   "cell_type": "markdown",
   "metadata": {},
   "source": [
    "5. It might be possible that the dummy column creation would be different in test and train data, thus, I'd fill in all missing columns with zeros."
   ]
  },
  {
   "cell_type": "code",
   "execution_count": 164,
   "metadata": {},
   "outputs": [],
   "source": [
    "missing_cols = list(set(X_train.columns) - set(X_test.columns))\n",
    "X_test = pd.concat([X_test, pd.DataFrame(0, index=X_test.index, columns=missing_cols)], axis=1)\n",
    "\n",
    "X_test = X_test[X_train.columns]"
   ]
  },
  {
   "cell_type": "markdown",
   "metadata": {},
   "source": [
    "6. Finally, as the last step of data processing, I'll scale the data."
   ]
  },
  {
   "cell_type": "code",
   "execution_count": 165,
   "metadata": {},
   "outputs": [],
   "source": [
    "standardScaler = StandardScaler()\n",
    "standardScaler.fit(X_train)\n",
    "X_train = standardScaler.transform(X_train)\n",
    "X_test = standardScaler.transform(X_test)"
   ]
  },
  {
   "cell_type": "code",
   "execution_count": 166,
   "metadata": {},
   "outputs": [
    {
     "name": "stdout",
     "output_type": "stream",
     "text": [
      "float64\n"
     ]
    }
   ],
   "source": [
    "print(X_train.dtype)"
   ]
  },
  {
   "cell_type": "markdown",
   "metadata": {},
   "source": [
    "III.    MODEL"
   ]
  },
  {
   "cell_type": "markdown",
   "metadata": {},
   "source": [
    "1. RAMDOM FOREST MODEL"
   ]
  },
  {
   "cell_type": "markdown",
   "metadata": {},
   "source": [
    "-  We use the scikit-learn library to build a random forest model for the data set and print the model's r2_score value."
   ]
  },
  {
   "cell_type": "code",
   "execution_count": 167,
   "metadata": {},
   "outputs": [
    {
     "name": "stdout",
     "output_type": "stream",
     "text": [
      "R-squared for Random Forest: 0.8746017763614948\n",
      "MAE for Random Forest: 128.67656490224232\n",
      "MSE for Random Forest: 389384.26618519716\n",
      "RMSE for Random Forest: 624.0066235106781\n"
     ]
    }
   ],
   "source": [
    "rf = RandomForestRegressor(n_estimators = 100,random_state=42)\n",
    "rf.fit(X_train, y_train)\n",
    "y_pred_rf = rf.predict(X_test)\n",
    "r2_rf=r2_score(y_test, y_pred_rf)\n",
    "mae_rf = mean_absolute_error(y_test, y_pred_rf)\n",
    "mse_rf = mean_squared_error(y_test, y_pred_rf)\n",
    "rmse_rf = np.sqrt(mse_rf)\n",
    "print(f\"R-squared for Random Forest: {r2_rf}\")\n",
    "print(f\"MAE for Random Forest: {mae_rf}\")\n",
    "print(f\"MSE for Random Forest: {mse_rf}\")\n",
    "print(f\"RMSE for Random Forest: {rmse_rf}\")"
   ]
  },
  {
   "cell_type": "markdown",
   "metadata": {},
   "source": [
    "- Hyperparameter tuning"
   ]
  },
  {
   "cell_type": "code",
   "execution_count": 168,
   "metadata": {},
   "outputs": [
    {
     "name": "stdout",
     "output_type": "stream",
     "text": [
      "Best Parameters for Random Forest: {'n_estimators': 100, 'min_samples_split': 10, 'min_samples_leaf': 1, 'max_features': None, 'max_depth': 30}\n"
     ]
    }
   ],
   "source": [
    "param_dist = {\n",
    "    'n_estimators': [100, 200, 300],\n",
    "    'max_depth': [None, 10, 20, 30],\n",
    "    'min_samples_split': [2, 5, 10],\n",
    "    'min_samples_leaf': [1, 2, 4],\n",
    "    'max_features': ['sqrt', 'log2', None]\n",
    "}\n",
    "\n",
    "rf_reg = RandomForestRegressor(random_state=42)\n",
    "random_search_rf = RandomizedSearchCV(estimator=rf_reg, param_distributions=param_dist, n_iter=10, scoring='r2', cv=3, n_jobs=-1)\n",
    "random_search_rf.fit(X_train, y_train)\n",
    "print(\"Best Parameters for Random Forest:\", random_search_rf.best_params_)"
   ]
  },
  {
   "cell_type": "code",
   "execution_count": 169,
   "metadata": {},
   "outputs": [
    {
     "name": "stdout",
     "output_type": "stream",
     "text": [
      "R-squared for Random Forest(Randomized): 0.8752595678008797\n",
      "MAE for Random Forest(Randomized): 135.16427307007064\n",
      "MSE for Random Forest(Randomized): 387341.70426130475\n",
      "RMSE for Random Forest(Randomized): 622.3678207148123\n"
     ]
    }
   ],
   "source": [
    "y_pred_random_search_rf_best =random_search_rf.best_estimator_.predict(X_test)\n",
    "r2_rf_best = r2_score(y_test, y_pred_random_search_rf_best)\n",
    "r2_rf_best=r2_score(y_test, y_pred_random_search_rf_best)\n",
    "mae_rf_best = mean_absolute_error(y_test, y_pred_random_search_rf_best)\n",
    "mse_rf_best = mean_squared_error(y_test, y_pred_random_search_rf_best)\n",
    "rmse_rf_best = np.sqrt(mse_rf_best)\n",
    "print(f\"R-squared for Random Forest(Randomized): {r2_rf_best}\")\n",
    "print(f\"MAE for Random Forest(Randomized): {mae_rf_best}\")\n",
    "print(f\"MSE for Random Forest(Randomized): {mse_rf_best}\")\n",
    "print(f\"RMSE for Random Forest(Randomized): {rmse_rf_best}\")\n"
   ]
  },
  {
   "cell_type": "markdown",
   "metadata": {},
   "source": [
    "2. LINEAR REGRESSION MODEL"
   ]
  },
  {
   "cell_type": "code",
   "execution_count": 170,
   "metadata": {},
   "outputs": [
    {
     "name": "stdout",
     "output_type": "stream",
     "text": [
      "R-squared for Linear Regression: -1.1918519684097178e+23\n",
      "MAE for Linear Regression: 15531581252732.844\n",
      "MSE for Linear Regression: 3.700916892239742e+29\n",
      "RMSE for Linear Regression: 608351616439024.6\n"
     ]
    }
   ],
   "source": [
    "lr = LinearRegression()\n",
    "lr.fit(X_train, y_train)\n",
    "y_pred_lr = lr.predict(X_test)\n",
    "r2_lr = r2_score(y_test, y_pred_lr)\n",
    "mae_lr = mean_absolute_error(y_test, y_pred_lr)\n",
    "mse_lr = mean_squared_error(y_test, y_pred_lr)\n",
    "rmse_lr = np.sqrt(mse_lr)\n",
    "print(f\"R-squared for Linear Regression: {r2_lr}\")\n",
    "print(f\"MAE for Linear Regression: {mae_lr}\")\n",
    "print(f\"MSE for Linear Regression: {mse_lr}\")\n",
    "print(f\"RMSE for Linear Regression: {rmse_lr}\")"
   ]
  },
  {
   "cell_type": "markdown",
   "metadata": {},
   "source": [
    "+ From the results, it is seen that the linear relationship between the attributes is very small, so attempting to implement this model is not feasible."
   ]
  },
  {
   "cell_type": "markdown",
   "metadata": {},
   "source": [
    "3. DECISION TREE MODEL"
   ]
  },
  {
   "cell_type": "code",
   "execution_count": 171,
   "metadata": {},
   "outputs": [
    {
     "name": "stdout",
     "output_type": "stream",
     "text": [
      "R-squared for Decision Tree: 0.8555291975267258\n",
      "MAE for Decision Tree: 133.14246070996396\n",
      "MSE for Decision Tree: 448608.0884878554\n",
      "RMSE for Decision Tree: 669.7821201613666\n"
     ]
    }
   ],
   "source": [
    "dt = DecisionTreeRegressor(random_state=42)\n",
    "dt.fit(X_train, y_train)\n",
    "\n",
    "y_pred_dt = dt.predict(X_test)\n",
    "\n",
    "\n",
    "r2_dt = r2_score(y_test, y_pred_dt)\n",
    "mae_dt = mean_absolute_error(y_test, y_pred_dt)\n",
    "mse_dt = mean_squared_error(y_test, y_pred_dt)\n",
    "rmse_dt = np.sqrt(mse_dt)\n",
    "print(f\"R-squared for Decision Tree: {r2_dt}\")\n",
    "print(f\"MAE for Decision Tree: {mae_dt}\")\n",
    "print(f\"MSE for Decision Tree: {mse_dt}\")\n",
    "print(f\"RMSE for Decision Tree: {rmse_dt}\")"
   ]
  },
  {
   "cell_type": "markdown",
   "metadata": {},
   "source": [
    "- Hyperparameter tuning"
   ]
  },
  {
   "cell_type": "code",
   "execution_count": 172,
   "metadata": {},
   "outputs": [
    {
     "name": "stdout",
     "output_type": "stream",
     "text": [
      "Best Parameters for Decision Tree: {'max_depth': None, 'min_samples_leaf': 2, 'min_samples_split': 10}\n"
     ]
    }
   ],
   "source": [
    "parameters = {\n",
    "    'max_depth': [None,  10, 20, 30],\n",
    "    'min_samples_split': [2, 5, 10],\n",
    "    'min_samples_leaf': [1, 2, 4]\n",
    "}\n",
    "\n",
    "dt = DecisionTreeRegressor(random_state=42)\n",
    "\n",
    "grid_search_dt = GridSearchCV(estimator=dt, param_grid=parameters, scoring='r2', cv=3, n_jobs=-1)\n",
    "grid_search_dt.fit(X_train, y_train)\n",
    "print(\"Best Parameters for Decision Tree:\", grid_search_dt.best_params_)"
   ]
  },
  {
   "cell_type": "code",
   "execution_count": 173,
   "metadata": {},
   "outputs": [
    {
     "name": "stdout",
     "output_type": "stream",
     "text": [
      "R-squared for Decision Tree (optimized): 0.891923361239809\n",
      "MAE for Decision Tree (optimized): 135.9404173929737\n",
      "MSE for Decision Tree (optimized): 335597.59823007055\n",
      "RMSE for Decision Tree (optimized): 579.3078613570426\n"
     ]
    }
   ],
   "source": [
    "y_pred_dt_best = grid_search_dt.best_estimator_.predict(X_test);\n",
    "r2_dt_best = r2_score(y_test, y_pred_dt_best)\n",
    "mae_dt_best = mean_absolute_error(y_test, y_pred_dt_best)\n",
    "mse_dt_best = mean_squared_error(y_test, y_pred_dt_best)\n",
    "rmse_dt_best = np.sqrt(mse_dt_best)\n",
    "print(f\"R-squared for Decision Tree (optimized): {r2_dt_best}\")\n",
    "print(f\"MAE for Decision Tree (optimized): {mae_dt_best}\")\n",
    "print(f\"MSE for Decision Tree (optimized): {mse_dt_best}\")\n",
    "print(f\"RMSE for Decision Tree (optimized): {rmse_dt_best}\")"
   ]
  },
  {
   "cell_type": "markdown",
   "metadata": {},
   "source": [
    "4. XG BOOT"
   ]
  },
  {
   "cell_type": "code",
   "execution_count": 174,
   "metadata": {},
   "outputs": [
    {
     "name": "stdout",
     "output_type": "stream",
     "text": [
      "R-squared for XGBoost: 0.874214373677163\n",
      "MAE for XGBoost: 162.10217312282276\n",
      "MSE for XGBoost: 390587.2219016318\n",
      "RMSE for XGBoost: 624.9697767905516\n"
     ]
    }
   ],
   "source": [
    "xg_reg = xgb.XGBRegressor(objective ='reg:squarederror', random_state=42)\n",
    "xg_reg.fit(X_train, y_train)\n",
    "\n",
    "\n",
    "y_pred_xgb = xg_reg.predict(X_test)\n",
    "r2_xgb = r2_score(y_test, y_pred_xgb)\n",
    "mae_xgb = mean_absolute_error(y_test, y_pred_xgb)\n",
    "mse_xgb = mean_squared_error(y_test, y_pred_xgb)\n",
    "rmse_xgb = np.sqrt(mse_xgb)\n",
    "print(f\"R-squared for XGBoost: {r2_xgb}\")\n",
    "print(f\"MAE for XGBoost: {mae_xgb}\")\n",
    "print(f\"MSE for XGBoost: {mse_xgb}\")\n",
    "print(f\"RMSE for XGBoost: {rmse_xgb}\")\n"
   ]
  },
  {
   "cell_type": "markdown",
   "metadata": {},
   "source": [
    "- Hyperparameter tuning"
   ]
  },
  {
   "cell_type": "code",
   "execution_count": 175,
   "metadata": {},
   "outputs": [
    {
     "name": "stdout",
     "output_type": "stream",
     "text": [
      "{'colsample_bytree': 1.0, 'gamma': 0, 'learning_rate': 0.1, 'max_depth': 5, 'min_child_weight': 3, 'n_estimators': 200, 'subsample': 0.8}\n"
     ]
    }
   ],
   "source": [
    "param_grid_xgb = {\n",
    "    'learning_rate': [0.01, 0.1],\n",
    "    'n_estimators': [100, 200],\n",
    "    'max_depth': [3, 5],\n",
    "    'min_child_weight': [1, 3],\n",
    "    'subsample': [0.8, 1.0],\n",
    "    'colsample_bytree': [0.8, 1.0],\n",
    "    'gamma': [0, 1]\n",
    "}\n",
    "\n",
    "xg_reg = xgb.XGBRegressor(objective='reg:squarederror', random_state=42)\n",
    "grid_search_xgb = GridSearchCV(estimator=xg_reg, param_grid=param_grid_xgb, scoring='r2', cv=3, n_jobs=-1)\n",
    "grid_search_xgb.fit(X_train, y_train)\n",
    "print(grid_search_xgb.best_params_)\n"
   ]
  },
  {
   "cell_type": "code",
   "execution_count": 176,
   "metadata": {},
   "outputs": [
    {
     "name": "stdout",
     "output_type": "stream",
     "text": [
      "R-squared for XGBoost (optimized): 0.8794334333111821\n",
      "MAE for XGBoost (optimized): 202.52397673660965\n",
      "MSE for XGBoost (optimized): 374381.0935626235\n",
      "RMSE for XGBoost (optimized): 611.8668920301404\n"
     ]
    }
   ],
   "source": [
    "y_pred_xgb_best = grid_search_xgb.best_estimator_.predict(X_test)\n",
    "r2_xgb_best = r2_score(y_test, y_pred_xgb_best)\n",
    "mae_xgb_best = mean_absolute_error(y_test, y_pred_xgb_best)\n",
    "mse_xgb_best = mean_squared_error(y_test, y_pred_xgb_best)\n",
    "rmse_xgb_best = np.sqrt(mse_xgb_best)\n",
    "print(f\"R-squared for XGBoost (optimized): {r2_xgb_best}\")\n",
    "print(f\"MAE for XGBoost (optimized): {mae_xgb_best}\")\n",
    "print(f\"MSE for XGBoost (optimized): {mse_xgb_best}\")\n",
    "print(f\"RMSE for XGBoost (optimized): {rmse_xgb_best}\")\n"
   ]
  },
  {
   "cell_type": "markdown",
   "metadata": {},
   "source": [
    "5. GRADIENT BOOSTING MODEL"
   ]
  },
  {
   "cell_type": "code",
   "execution_count": 177,
   "metadata": {},
   "outputs": [
    {
     "name": "stdout",
     "output_type": "stream",
     "text": [
      "R-squared for GBM : 0.8201470714606502\n",
      "MAE for GBM : 315.8806398951024\n",
      "MSE for GBM: 558476.017989215\n",
      "RMSE for GBM: 747.3125303306609\n"
     ]
    }
   ],
   "source": [
    "gbm = GradientBoostingRegressor(n_estimators=100, random_state=42)\n",
    "gbm.fit(X_train, y_train)\n",
    "y_pred_gbm = gbm.predict(X_test)\n",
    "r2_gbm = r2_score(y_test, y_pred_gbm)\n",
    "mae_gbm = mean_absolute_error(y_test, y_pred_gbm)\n",
    "mse_gbm = mean_squared_error(y_test, y_pred_gbm)\n",
    "rmse_gbm = np.sqrt(mse_gbm)\n",
    "print(f\"R-squared for GBM : {r2_gbm}\")\n",
    "print(f\"MAE for GBM : {mae_gbm}\")\n",
    "print(f\"MSE for GBM: {mse_gbm}\")\n",
    "print(f\"RMSE for GBM: {rmse_gbm}\")\n"
   ]
  },
  {
   "cell_type": "markdown",
   "metadata": {},
   "source": [
    "- Hyperparameter tuning"
   ]
  },
  {
   "cell_type": "code",
   "execution_count": 178,
   "metadata": {},
   "outputs": [
    {
     "name": "stdout",
     "output_type": "stream",
     "text": [
      "{'n_estimators': 200, 'min_samples_split': 10, 'min_samples_leaf': 4, 'max_depth': 4, 'learning_rate': 0.2}\n"
     ]
    }
   ],
   "source": [
    "from sklearn.model_selection import  RandomizedSearchCV\n",
    "param_dist = {\n",
    "    'n_estimators': [50, 100, 200],\n",
    "    'learning_rate': [0.01, 0.1, 0.2],\n",
    "    'max_depth': [3, 4, 5],\n",
    "    'min_samples_split': [2, 5, 10],\n",
    "    'min_samples_leaf': [1, 2, 4]\n",
    "}\n",
    "gbm = GradientBoostingRegressor(random_state=42)\n",
    "random_search = RandomizedSearchCV(estimator=gbm, param_distributions=param_dist, n_iter=10, scoring='r2', cv=3, random_state=42)\n",
    "random_search.fit(X_train, y_train)\n",
    "print(random_search.best_params_)\n"
   ]
  },
  {
   "cell_type": "code",
   "execution_count": 179,
   "metadata": {},
   "outputs": [
    {
     "name": "stdout",
     "output_type": "stream",
     "text": [
      "R-squared for GBM (optimized): 0.8635980884217508\n",
      "MAE for GBM (optimized): 177.58903573808047\n",
      "MSE for GBM (optimized): 423552.71633884415\n",
      "RMSE for GBM (optimized): 650.8092780061177\n"
     ]
    }
   ],
   "source": [
    "y_pred_gbm_best = random_search.best_estimator_.predict(X_test)\n",
    "r2_gbm_best = r2_score(y_test, y_pred_gbm_best)\n",
    "mae_gbm_best = mean_absolute_error(y_test, y_pred_gbm_best)\n",
    "mse_gbm_best = mean_squared_error(y_test, y_pred_gbm_best)\n",
    "rmse_gbm_best = np.sqrt(mse_gbm_best)\n",
    "print(f\"R-squared for GBM (optimized): {r2_gbm_best}\")\n",
    "print(f\"MAE for GBM (optimized): {mae_gbm_best}\")\n",
    "print(f\"MSE for GBM (optimized): {mse_gbm_best}\")\n",
    "print(f\"RMSE for GBM (optimized): {rmse_gbm_best}\")"
   ]
  },
  {
   "cell_type": "markdown",
   "metadata": {},
   "source": [
    "6.  NEURAL NETWORK MODEL"
   ]
  },
  {
   "cell_type": "code",
   "execution_count": 180,
   "metadata": {},
   "outputs": [
    {
     "name": "stdout",
     "output_type": "stream",
     "text": [
      "Epoch [100/1000], Loss: 4196945.5\n",
      "Epoch [200/1000], Loss: 2389425.5\n",
      "Epoch [300/1000], Loss: 1290033.75\n",
      "Epoch [400/1000], Loss: 1017780.125\n",
      "Epoch [500/1000], Loss: 895757.125\n",
      "Epoch [600/1000], Loss: 839633.4375\n",
      "Epoch [700/1000], Loss: 810254.25\n",
      "Epoch [800/1000], Loss: 790459.25\n",
      "Epoch [900/1000], Loss: 774611.1875\n",
      "Epoch [1000/1000], Loss: 761191.5\n",
      "R-squared for NeuralNetwork : 0.8039518661804845\n",
      "MAE for NeuralNetwork : 236.97978622289168\n",
      "MSE for NeuralNetwork: 608765.0726564896\n",
      "RMSE for NeuralNetwork: 780.2339858378956\n"
     ]
    }
   ],
   "source": [
    "X_train_tensor = torch.FloatTensor(X_train)\n",
    "y_train_tensor = torch.FloatTensor(y_train.values)\n",
    "X_test_tensor = torch.FloatTensor(X_test)\n",
    "y_test_tensor = torch.FloatTensor(y_test.values)\n",
    "\n",
    "class NeuralNetwork(nn.Module):\n",
    "    def __init__(self):\n",
    "        super(NeuralNetwork, self).__init__()\n",
    "        self.fc1 = nn.Linear(in_features=X_train.shape[1], out_features=64)\n",
    "        self.relu1 = nn.ReLU()\n",
    "        self.fc2 = nn.Linear(in_features=64, out_features=32)\n",
    "        self.relu2 = nn.ReLU()\n",
    "        self.fc3 = nn.Linear(in_features=32, out_features=1)\n",
    "\n",
    "    def forward(self, x):\n",
    "        x = self.fc1(x)\n",
    "        x = self.relu1(x)\n",
    "        x = self.fc2(x)\n",
    "        x = self.relu2(x)\n",
    "        x = self.fc3(x)\n",
    "        return x\n",
    "\n",
    "\n",
    "model = NeuralNetwork()\n",
    "criterion = nn.MSELoss()\n",
    "optimizer = optim.Adam(model.parameters(), lr=0.001)\n",
    "\n",
    "\n",
    "num_epochs = 1000\n",
    "for epoch in range(num_epochs):\n",
    "    inputs = Variable(X_train_tensor)\n",
    "    labels = Variable(y_train_tensor)\n",
    "\n",
    "    optimizer.zero_grad()\n",
    "\n",
    "    outputs = model(inputs)\n",
    "    loss = criterion(outputs.squeeze(), labels)\n",
    "    loss.backward()\n",
    "\n",
    "    optimizer.step()\n",
    "\n",
    "    if (epoch + 1) % 100 == 0:\n",
    "        print(f'Epoch [{epoch+1}/{num_epochs}], Loss: {loss.item()}')\n",
    "\n",
    "\n",
    "with torch.no_grad():\n",
    "    model.eval()\n",
    "    y_pred_nn = model(Variable(X_test_tensor)).squeeze().numpy()\n",
    "\n",
    "r2_nn = r2_score(y_test, y_pred_nn)\n",
    "mae_nn = mean_absolute_error(y_test, y_pred_nn)\n",
    "mse_nn = mean_squared_error(y_test, y_pred_nn)\n",
    "rmse_nn = np.sqrt(mse_nn)\n",
    "print(f\"R-squared for NeuralNetwork : {r2_nn}\")\n",
    "print(f\"MAE for NeuralNetwork : {mae_nn}\")\n",
    "print(f\"MSE for NeuralNetwork: {mse_nn}\")\n",
    "print(f\"RMSE for NeuralNetwork: {rmse_nn}\")\n",
    "\n",
    "\n"
   ]
  },
  {
   "cell_type": "markdown",
   "metadata": {},
   "source": [
    "IV. MODEL EVALUATION"
   ]
  },
  {
   "cell_type": "code",
   "execution_count": 181,
   "metadata": {},
   "outputs": [],
   "source": [
    "import matplotlib.pyplot as plt\n",
    "\n",
    "\n"
   ]
  },
  {
   "cell_type": "code",
   "execution_count": 182,
   "metadata": {},
   "outputs": [
    {
     "data": {
      "image/png": "[encoded data removed]",
      "text/plain": [
       "<Figure size 1000x600 with 1 Axes>"
      ]
     },
     "metadata": {},
     "output_type": "display_data"
    }
   ],
   "source": [
    "models = ['rf', 'dt', 'xg_reg', 'gbm']\n",
    "r2_before_opt = [r2_rf, r2_dt, r2_xgb, r2_gbm] \n",
    "r2_after_opt = [r2_rf_best, r2_dt_best, r2_xgb_best, r2_gbm_best]\n",
    "plt.figure(figsize=(10, 6))\n",
    "plt.plot(models, r2_before_opt, marker='o', linestyle='-', label='Before Optimization')\n",
    "plt.plot(models, r2_after_opt, marker='o', linestyle='-', label='After Optimization')\n",
    "\n",
    "plt.xlabel('Models')\n",
    "plt.ylabel('R2 Score')\n",
    "plt.title('Comparison of R2 Scores Before and After Optimization')\n",
    "plt.legend()\n",
    "plt.grid(True)\n",
    "plt.show()\n"
   ]
  },
  {
   "cell_type": "code",
   "execution_count": 183,
   "metadata": {},
   "outputs": [
    {
     "data": {
      "image/png": "[encoded data removed]",
      "text/plain": [
       "<Figure size 1000x1500 with 3 Axes>"
      ]
     },
     "metadata": {},
     "output_type": "display_data"
    }
   ],
   "source": [
    "mae_before_opt = [mae_rf, mae_dt, mae_xgb, mae_gbm]\n",
    "mae_after_opt = [mae_rf_best, mae_dt_best, mae_xgb_best, mae_gbm_best]\n",
    "\n",
    "mse_before_opt = [mse_rf, mse_dt, mse_xgb, mse_gbm]\n",
    "mse_after_opt = [mse_rf_best, mse_dt_best, mse_xgb_best, mse_gbm_best]\n",
    "\n",
    "rmse_before_opt = [rmse_rf, rmse_dt, rmse_xgb, rmse_gbm]\n",
    "rmse_after_opt = [rmse_rf_best, rmse_dt_best, rmse_xgb_best, rmse_gbm_best]\n",
    "\n",
    "fig, axes = plt.subplots(nrows=3, ncols=1, figsize=(10, 15))\n",
    "\n",
    "# MAE\n",
    "axes[0].bar(models, mae_before_opt, label='Before Optimization', alpha=0.7)\n",
    "axes[0].bar(models, mae_after_opt, label='After Best Parameters', alpha=0.7)\n",
    "axes[0].set_ylabel('MAE')\n",
    "axes[0].set_title('Comparison of MAE Before and After Best Parameters')\n",
    "axes[0].legend()\n",
    "\n",
    "# MSE\n",
    "axes[1].bar(models, mse_before_opt, label='Before Optimization', alpha=0.7)\n",
    "axes[1].bar(models, mse_after_opt, label='After Best Parameters', alpha=0.7)\n",
    "axes[1].set_ylabel('MSE')\n",
    "axes[1].set_title('Comparison of MSE Before and After Best Parameters')\n",
    "axes[1].legend()\n",
    "\n",
    "# RMSE\n",
    "axes[2].bar(models, rmse_before_opt, label='Before Optimization', alpha=0.7)\n",
    "axes[2].bar(models, rmse_after_opt, label='After Best Parameters', alpha=0.7)\n",
    "axes[2].set_ylabel('RMSE')\n",
    "axes[2].set_title('Comparison of RMSE Before and After Best Parameters')\n",
    "axes[2].legend()\n",
    "\n",
    "plt.xlabel('Models')\n",
    "plt.show()"
   ]
  },
  {
   "cell_type": "code",
   "execution_count": 184,
   "metadata": {},
   "outputs": [
    {
     "name": "stdout",
     "output_type": "stream",
     "text": [
      "Mean R2 Before Optimization: 0.8561231047565085\n",
      "Mean R2 After Optimization: 0.8775536126934054\n",
      "Median R2 Before Optimization: 0.8648717856019444\n",
      "Median R2 After Optimization: 0.8773465005560308\n",
      "Standard Deviation R2 Before Optimization: 0.022155039003275635\n",
      "Standard Deviation R2 After Optimization: 0.010124755534178966\n"
     ]
    }
   ],
   "source": [
    "import numpy as np\n",
    "r2_before_opt = [r2_rf, r2_dt, r2_xgb, r2_gbm] \n",
    "r2_after_opt = [r2_rf_best, r2_dt_best, r2_xgb_best, r2_gbm_best] \n",
    "print(\"Mean R2 Before Optimization:\", np.mean(r2_before_opt))\n",
    "print(\"Mean R2 After Optimization:\", np.mean(r2_after_opt))\n",
    "print(\"Median R2 Before Optimization:\", np.median(r2_before_opt))\n",
    "print(\"Median R2 After Optimization:\", np.median(r2_after_opt))\n",
    "print(\"Standard Deviation R2 Before Optimization:\", np.std(r2_before_opt))\n",
    "print(\"Standard Deviation R2 After Optimization:\", np.std(r2_after_opt))\n"
   ]
  },
  {
   "cell_type": "markdown",
   "metadata": {},
   "source": [
    "- The results show that the models are significantly improved after performing parameter optimization"
   ]
  },
  {
   "cell_type": "markdown",
   "metadata": {},
   "source": [
    "-   After evaluation, we found the dt model to be the best model for this project"
   ]
  },
  {
   "cell_type": "markdown",
   "metadata": {},
   "source": [
    "V.  GET INPUT"
   ]
  },
  {
   "cell_type": "markdown",
   "metadata": {},
   "source": [
    "-   We will use the most effective model, Decision Tree, to perform this task"
   ]
  },
  {
   "cell_type": "code",
   "execution_count": 197,
   "metadata": {},
   "outputs": [
    {
     "name": "stdout",
     "output_type": "stream",
     "text": [
      "Dự đoán giá cả: 550.0\n"
     ]
    }
   ],
   "source": [
    "X = df.drop('Giá thành', axis=1)\n",
    "y = df['Giá thành']\n",
    "X.drop([\"Đơn vị động cơ\", \"Số chỗ ngồi\", \"Số cửa\"], axis=1, inplace=True)\n",
    "X = pd.get_dummies(X,\n",
    "                   columns=[\"Thương hiệu\", \"Tình trạng\", \"Xuất xứ\", \"Kiểu dáng\", \"Hộp số\", \"Dẫn động\",\n",
    "                            \"Loại nhiên liệu\", \"Model\"],\n",
    "                   drop_first=True)\n",
    "scaler = StandardScaler()\n",
    "X_scaled = scaler.fit_transform(X)\n",
    "dt = DecisionTreeRegressor(max_depth=None, min_samples_leaf=2, min_samples_split=10, random_state=42)\n",
    "dt.fit(X_scaled, y)\n",
    "user_input = {\n",
    "    \"Thương hiệu\": input(\"Nhập Thương hiệu: \"),\n",
    "    \"Model\": input(\"Nhập Model: \"),\n",
    "    \"Tình trạng\": input(\"Nhập Tình trạng (New hoặc Used): \"),\n",
    "    \"Số Km đã đi\": float(input(\"Nhập Số Km đã đi: \")),\n",
    "    \"Xuất xứ\": input(\"Nhập Xuất xứ: (Domestic hoặc Imported)\"),\n",
    "    \"Kiểu dáng\": input(\"Nhập Kiểu dáng: \"),\n",
    "    \"Hộp số\": input(\"Nhập Hộp số: (Automatic hoặc Manual)\"),\n",
    "    \"Số chỗ ngồi\": int(input(\"Nhập Số chỗ ngồi: \")),\n",
    "    \"Số cửa\": int(input(\"Nhập Số cửa: \")),\n",
    "    \"Dẫn động\": input(\"Nhập Dẫn động: \"),\n",
    "    \"Loại nhiên liệu\": input(\"Nhập Loại nhiên liệu: \"),\n",
    "    \"Dung tích động cơ\": float(input(\"Nhập Dung tích động cơ: \")),\n",
    "    \"Tuổi\": int(input(\"Nhập Tuổi: \"))\n",
    "}\n",
    "\n",
    "user_df = pd.DataFrame([user_input])\n",
    "columns_to_drop = [\"Đơn vị động cơ\", \"Số chỗ ngồi\", \"Số cửa\"]\n",
    "columns_to_drop_existing = [col for col in columns_to_drop if col in user_df.columns]\n",
    "user_df.drop(columns_to_drop_existing, axis=1, inplace=True)\n",
    "user_df = pd.get_dummies(user_df,\n",
    "                         columns=[\"Thương hiệu\", \"Tình trạng\", \"Xuất xứ\", \"Kiểu dáng\", \"Hộp số\", \"Dẫn động\",\n",
    "                                  \"Loại nhiên liệu\", \"Model\"],\n",
    "                         drop_first=True)\n",
    "missing_cols = list(set(X.columns) - set(user_df.columns))\n",
    "user_df = pd.concat([user_df, pd.DataFrame(0, index=user_df.index, columns=missing_cols)], axis=1)\n",
    "user_df = user_df[X.columns]\n",
    "user_df_scaled = scaler.transform(user_df)\n",
    "predicted_price = dt.predict(user_df_scaled)\n",
    "print(f\"Predicted price: {predicted_price[0]}\")\n"
   ]
  }
 ],
 "metadata": {
  "kernelspec": {
   "display_name": "Python 3",
   "language": "python",
   "name": "python3"
  },
  "language_info": {
   "codemirror_mode": {
    "name": "ipython",
    "version": 3
   },
   "file_extension": ".py",
   "mimetype": "text/x-python",
   "name": "python",
   "nbconvert_exporter": "python",
   "pygments_lexer": "ipython3",
   "version": "3.10.5"
  }
 },
 "nbformat": 4,
 "nbformat_minor": 2
}
